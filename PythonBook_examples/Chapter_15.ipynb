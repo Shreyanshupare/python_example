{
 "cells": [
  {
   "cell_type": "markdown",
   "metadata": {},
   "source": [
    "# Python List vs Tuples\n",
    "A tuple is an assortment of data, separated by commas, which makes it similar to the Python list, but a tuple\n",
    "is fundamentally different in that a tuple is \"immutable.\" This means that it cannot be changed, modified, or\n",
    "manipulated"
   ]
  },
  {
   "cell_type": "code",
   "execution_count": 2,
   "metadata": {},
   "outputs": [
    {
     "name": "stdout",
     "output_type": "stream",
     "text": [
      "15 12\n"
     ]
    }
   ],
   "source": [
    "def example():\n",
    "    return 15, 12\n",
    "\n",
    "x, y = example()\n",
    "print(x,y)\n",
    "\n",
    "# in the above case, we have used a tuple and cannot modify it... and\n",
    "# we definitely do not want to!"
   ]
  },
  {
   "cell_type": "code",
   "execution_count": 3,
   "metadata": {},
   "outputs": [
    {
     "name": "stdout",
     "output_type": "stream",
     "text": [
      "[1, 3, 5, 6, 2, 1, 6]\n",
      "1 3\n"
     ]
    }
   ],
   "source": [
    "x = [1,3,5,6,2,1,6]\n",
    "'''\n",
    "You can then reference the whole list like:\n",
    "'''\n",
    "print(x)\n",
    "\n",
    "# or a single element by giving its index value.\n",
    "# index values start at 0 and go up by 1 each time\n",
    "\n",
    "print(x[0],x[1])"
   ]
  }
 ],
 "metadata": {
  "kernelspec": {
   "display_name": "Python 3",
   "language": "python",
   "name": "python3"
  },
  "language_info": {
   "codemirror_mode": {
    "name": "ipython",
    "version": 3
   },
   "file_extension": ".py",
   "mimetype": "text/x-python",
   "name": "python",
   "nbconvert_exporter": "python",
   "pygments_lexer": "ipython3",
   "version": "3.5.2"
  }
 },
 "nbformat": 4,
 "nbformat_minor": 2
}
