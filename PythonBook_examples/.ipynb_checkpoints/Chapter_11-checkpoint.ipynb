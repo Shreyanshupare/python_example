{
 "cells": [
  {
   "cell_type": "markdown",
   "metadata": {},
   "source": [
    "# Reading From Files\n",
    "how to write and append to files, we might want to learn how to read data from files into\n",
    "the Python program"
   ]
  },
  {
   "cell_type": "code",
   "execution_count": 1,
   "metadata": {},
   "outputs": [
    {
     "name": "stdout",
     "output_type": "stream",
     "text": [
      "Sample Text to Save\n",
      "New line!\n",
      "New bit of information\n"
     ]
    }
   ],
   "source": [
    "# similar syntax as you've seen, 'r' for read. You can just throw a .read() at\n",
    "# the end, and you get:\n",
    "readMe = open('exampleFile.txt','r').read()\n",
    "print(readMe)"
   ]
  },
  {
   "cell_type": "code",
   "execution_count": 2,
   "metadata": {},
   "outputs": [
    {
     "name": "stdout",
     "output_type": "stream",
     "text": [
      "['Sample Text to Save\\n', 'New line!\\n', 'New bit of information']\n"
     ]
    }
   ],
   "source": [
    "readMe = open('exampleFile.txt','r').readlines()\n",
    "print(readMe)"
   ]
  }
 ],
 "metadata": {
  "kernelspec": {
   "display_name": "Python 3",
   "language": "python",
   "name": "python3"
  },
  "language_info": {
   "codemirror_mode": {
    "name": "ipython",
    "version": 3
   },
   "file_extension": ".py",
   "mimetype": "text/x-python",
   "name": "python",
   "nbconvert_exporter": "python",
   "pygments_lexer": "ipython3",
   "version": "3.5.2"
  }
 },
 "nbformat": 4,
 "nbformat_minor": 2
}
