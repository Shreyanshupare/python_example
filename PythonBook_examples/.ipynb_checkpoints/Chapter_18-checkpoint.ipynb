{
 "cells": [
  {
   "cell_type": "markdown",
   "metadata": {},
   "source": [
    "# Python dictionaries\n",
    "They are non-ordered and contain \"keys\" and \"values.\"\n",
    "Each key is unique and the values can be just about anything"
   ]
  },
  {
   "cell_type": "code",
   "execution_count": 3,
   "metadata": {},
   "outputs": [],
   "source": [
    "# Dictionary of names and ages.\n",
    "exDict = {'Jack':15,'Bob':22,'Alice':12,'Kevin':17}"
   ]
  },
  {
   "cell_type": "code",
   "execution_count": 4,
   "metadata": {},
   "outputs": [
    {
     "name": "stdout",
     "output_type": "stream",
     "text": [
      "{'Jack': 15, 'Alice': 12, 'Kevin': 17, 'Bob': 22}\n"
     ]
    }
   ],
   "source": [
    "print(exDict)"
   ]
  },
  {
   "cell_type": "code",
   "execution_count": 5,
   "metadata": {},
   "outputs": [
    {
     "name": "stdout",
     "output_type": "stream",
     "text": [
      "15\n"
     ]
    }
   ],
   "source": [
    "# How old is Jack?\n",
    "print(exDict['Jack'])"
   ]
  },
  {
   "cell_type": "code",
   "execution_count": 6,
   "metadata": {},
   "outputs": [
    {
     "name": "stdout",
     "output_type": "stream",
     "text": [
      "{'Tim': 14, 'Jack': 15, 'Alice': 12, 'Kevin': 17, 'Bob': 22}\n"
     ]
    }
   ],
   "source": [
    "# We find a new person that we want to insert:\n",
    "\n",
    "exDict['Tim'] = 14\n",
    "print(exDict)"
   ]
  },
  {
   "cell_type": "code",
   "execution_count": 7,
   "metadata": {},
   "outputs": [
    {
     "name": "stdout",
     "output_type": "stream",
     "text": [
      "{'Tim': 15, 'Jack': 15, 'Alice': 12, 'Kevin': 17, 'Bob': 22}\n"
     ]
    }
   ],
   "source": [
    "#Tim just had a birthday though!\n",
    "\n",
    "exDict['Tim'] = 15\n",
    "print(exDict)"
   ]
  },
  {
   "cell_type": "code",
   "execution_count": 11,
   "metadata": {},
   "outputs": [
    {
     "ename": "KeyError",
     "evalue": "'Tim'",
     "output_type": "error",
     "traceback": [
      "\u001b[1;31m---------------------------------------------------------------------------\u001b[0m",
      "\u001b[1;31mKeyError\u001b[0m                                  Traceback (most recent call last)",
      "\u001b[1;32m<ipython-input-11-620ca45fe183>\u001b[0m in \u001b[0;36m<module>\u001b[1;34m()\u001b[0m\n\u001b[0;32m      1\u001b[0m \u001b[1;31m#Then Tim died.\u001b[0m\u001b[1;33m\u001b[0m\u001b[1;33m\u001b[0m\u001b[0m\n\u001b[1;32m----> 2\u001b[1;33m \u001b[1;32mdel\u001b[0m \u001b[0mexDict\u001b[0m\u001b[1;33m[\u001b[0m\u001b[1;34m'Tim'\u001b[0m\u001b[1;33m]\u001b[0m\u001b[1;33m\u001b[0m\u001b[0m\n\u001b[0m\u001b[0;32m      3\u001b[0m \u001b[0mprint\u001b[0m\u001b[1;33m(\u001b[0m\u001b[0mexDict\u001b[0m\u001b[1;33m)\u001b[0m\u001b[1;33m\u001b[0m\u001b[0m\n",
      "\u001b[1;31mKeyError\u001b[0m: 'Tim'"
     ]
    }
   ],
   "source": [
    "#Then Tim died.\n",
    "del exDict['Tim']\n",
    "print(exDict)"
   ]
  },
  {
   "cell_type": "code",
   "execution_count": 12,
   "metadata": {},
   "outputs": [
    {
     "name": "stdout",
     "output_type": "stream",
     "text": [
      "blonde\n"
     ]
    }
   ],
   "source": [
    "#Next we want to track hair color\n",
    "\n",
    "exDict = {'Jack':[15,'blonde'],'Bob':[22,'brown'],'Alice':[12,'black'],'Kevin':[17,'red']}\n",
    "\n",
    "print(exDict['Jack'][1])"
   ]
  }
 ],
 "metadata": {
  "kernelspec": {
   "display_name": "Python 3",
   "language": "python",
   "name": "python3"
  },
  "language_info": {
   "codemirror_mode": {
    "name": "ipython",
    "version": 3
   },
   "file_extension": ".py",
   "mimetype": "text/x-python",
   "name": "python",
   "nbconvert_exporter": "python",
   "pygments_lexer": "ipython3",
   "version": "3.5.2"
  }
 },
 "nbformat": 4,
 "nbformat_minor": 2
}
