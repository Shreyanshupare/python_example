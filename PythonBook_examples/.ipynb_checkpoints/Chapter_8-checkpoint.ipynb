{
 "cells": [
  {
   "cell_type": "markdown",
   "metadata": {},
   "source": [
    "# Global And Local Variables\n",
    "When users begin using functions, they can quickly become confused when it comes to global and local\n",
    "variables... getting a the dreaded variable is not defined even when they clearly see that it is... or so they\n",
    "think."
   ]
  },
  {
   "cell_type": "code",
   "execution_count": 3,
   "metadata": {},
   "outputs": [
    {
     "name": "stdout",
     "output_type": "stream",
     "text": [
      "6\n",
      "5\n"
     ]
    },
    {
     "ename": "NameError",
     "evalue": "name 'z' is not defined",
     "output_type": "error",
     "traceback": [
      "\u001b[1;31m---------------------------------------------------------------------------\u001b[0m",
      "\u001b[1;31mNameError\u001b[0m                                 Traceback (most recent call last)",
      "\u001b[1;32m<ipython-input-3-37018a3c4fae>\u001b[0m in \u001b[0;36m<module>\u001b[1;34m()\u001b[0m\n\u001b[0;32m      8\u001b[0m \u001b[0mexample\u001b[0m\u001b[1;33m(\u001b[0m\u001b[1;33m)\u001b[0m\u001b[1;33m\u001b[0m\u001b[0m\n\u001b[0;32m      9\u001b[0m \u001b[1;33m\u001b[0m\u001b[0m\n\u001b[1;32m---> 10\u001b[1;33m \u001b[0mprint\u001b[0m\u001b[1;33m(\u001b[0m\u001b[0mz\u001b[0m\u001b[1;33m)\u001b[0m\u001b[1;33m\u001b[0m\u001b[0m\n\u001b[0m",
      "\u001b[1;31mNameError\u001b[0m: name 'z' is not defined"
     ]
    }
   ],
   "source": [
    "x = 6\n",
    "\n",
    "def example():\n",
    "    print(x)\n",
    "    z = 5\n",
    "    print(z)\n",
    "\n",
    "example()\n",
    "\n",
    "print(z)\n"
   ]
  },
  {
   "cell_type": "code",
   "execution_count": 4,
   "metadata": {},
   "outputs": [],
   "source": [
    "x = 6\n",
    "def example2():\n",
    "    print(x)\n",
    "    print(x+5)\n",
    "    # but then what happens when we go to modify:\n",
    "    x+=6\n",
    " # so there we attempted to take the x var and add 6 to it... but now\n",
    " # we are told that we cannot, as we're referencing the variable before\n",
    " # its assignment.\n"
   ]
  },
  {
   "cell_type": "code",
   "execution_count": 5,
   "metadata": {},
   "outputs": [
    {
     "name": "stdout",
     "output_type": "stream",
     "text": [
      "6\n",
      "11\n",
      "11\n"
     ]
    }
   ],
   "source": [
    "x = 6\n",
    "def example(x):\n",
    "    print(x)\n",
    "    x+=5\n",
    "    print(x)\n",
    "    return x\n",
    "\n",
    "x = example(x)\n",
    "print(x)"
   ]
  },
  {
   "cell_type": "markdown",
   "metadata": {},
   "source": [
    "In the above example, we have the function modifying x. It may appear somewhat confusing since x is being\n",
    "used in multiple locations, so maybe a more clear example is something like:"
   ]
  },
  {
   "cell_type": "code",
   "execution_count": 7,
   "metadata": {},
   "outputs": [
    {
     "name": "stdout",
     "output_type": "stream",
     "text": [
      "6\n",
      "11\n",
      "11\n"
     ]
    }
   ],
   "source": [
    "x = 6\n",
    "def example(modify):\n",
    "    print(modify)\n",
    "    modify+=5\n",
    "    print(modify)\n",
    "    return modify\n",
    "\n",
    "x = example(x)\n",
    "print(x)"
   ]
  }
 ],
 "metadata": {
  "kernelspec": {
   "display_name": "Python 3",
   "language": "python",
   "name": "python3"
  },
  "language_info": {
   "codemirror_mode": {
    "name": "ipython",
    "version": 3
   },
   "file_extension": ".py",
   "mimetype": "text/x-python",
   "name": "python",
   "nbconvert_exporter": "python",
   "pygments_lexer": "ipython3",
   "version": "3.5.2"
  }
 },
 "nbformat": 4,
 "nbformat_minor": 2
}
