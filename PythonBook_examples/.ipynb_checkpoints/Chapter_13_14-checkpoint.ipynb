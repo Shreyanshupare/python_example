{
 "cells": [
  {
   "cell_type": "markdown",
   "metadata": {},
   "source": [
    "# Getting User Input with Python3\n",
    "In time, you may want to eventually learn how to make GUIs in windows, but you will still find yourself\n",
    "needing raw input from time to time, like text fields, even in these sorts of GUIs."
   ]
  },
  {
   "cell_type": "code",
   "execution_count": 2,
   "metadata": {},
   "outputs": [
    {
     "name": "stdout",
     "output_type": "stream",
     "text": [
      "What is your name?: Python\n",
      "Hello Python\n"
     ]
    }
   ],
   "source": [
    "x = input('What is your name?: ')\n",
    "print('Hello',x)"
   ]
  },
  {
   "cell_type": "markdown",
   "metadata": {},
   "source": [
    "# Statistics Module in Python3\n",
    "The statistics module comes with an assortment of goodies: Mean, median, mode, standard deviation, and\n",
    "variance."
   ]
  },
  {
   "cell_type": "code",
   "execution_count": 5,
   "metadata": {},
   "outputs": [
    {
     "name": "stdout",
     "output_type": "stream",
     "text": [
      "mean:  4.230769230769231\n",
      "median:  5\n",
      "mode:  5\n",
      "stdev:  1.9644272343292228\n",
      "variance:  3.858974358974359\n"
     ]
    }
   ],
   "source": [
    "import statistics\n",
    "\n",
    "example_list = [5,2,5,6,1,2,6,7,2,6,3,5,5]\n",
    "\n",
    "x = statistics.mean(example_list)\n",
    "print(\"mean: \",x)\n",
    "\n",
    "y = statistics.median(example_list)\n",
    "print(\"median: \",y)\n",
    "\n",
    "z = statistics.mode(example_list)\n",
    "print(\"mode: \",z)\n",
    "\n",
    "a = statistics.stdev(example_list)\n",
    "print(\"stdev: \",a)\n",
    "\n",
    "b = statistics.variance(example_list)\n",
    "print(\"variance: \",b)"
   ]
  }
 ],
 "metadata": {
  "kernelspec": {
   "display_name": "Python 3",
   "language": "python",
   "name": "python3"
  },
  "language_info": {
   "codemirror_mode": {
    "name": "ipython",
    "version": 3
   },
   "file_extension": ".py",
   "mimetype": "text/x-python",
   "name": "python",
   "nbconvert_exporter": "python",
   "pygments_lexer": "ipython3",
   "version": "3.5.2"
  }
 },
 "nbformat": 4,
 "nbformat_minor": 2
}
