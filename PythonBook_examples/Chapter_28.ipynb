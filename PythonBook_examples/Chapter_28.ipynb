{
 "cells": [
  {
   "cell_type": "markdown",
   "metadata": {},
   "source": [
    "#  Numpy\n",
    "Python NumPy is the core library for scientific computing in Python. NumPy provides a high-performance\n",
    "multidimensional array object and tools for working with these arrays."
   ]
  },
  {
   "cell_type": "markdown",
   "metadata": {},
   "source": [
    "#### PYTHON NUMPY ARRAY"
   ]
  },
  {
   "cell_type": "code",
   "execution_count": 1,
   "metadata": {},
   "outputs": [],
   "source": [
    "import numpy"
   ]
  },
  {
   "cell_type": "code",
   "execution_count": 2,
   "metadata": {},
   "outputs": [
    {
     "name": "stdout",
     "output_type": "stream",
     "text": [
      "print rank 1 array:\n"
     ]
    }
   ],
   "source": [
    "a = numpy.array([3, 2, 3])\n",
    "print('print rank 1 array:')"
   ]
  },
  {
   "cell_type": "code",
   "execution_count": 3,
   "metadata": {},
   "outputs": [
    {
     "name": "stdout",
     "output_type": "stream",
     "text": [
      "print using their index: a[0]=  3\n"
     ]
    }
   ],
   "source": [
    "# access the array using their index\n",
    "print('print using their index: a[0]= ', a[0])"
   ]
  },
  {
   "cell_type": "code",
   "execution_count": 4,
   "metadata": {},
   "outputs": [
    {
     "name": "stdout",
     "output_type": "stream",
     "text": [
      "print using slicing :  [2 3]\n"
     ]
    }
   ],
   "source": [
    "a[0] = 5 # modify the array\n",
    "print('print using slicing : ', a[1:]) # slicing can be used also"
   ]
  },
  {
   "cell_type": "code",
   "execution_count": 5,
   "metadata": {},
   "outputs": [
    {
     "name": "stdout",
     "output_type": "stream",
     "text": [
      "Print the whole array :  [5 2 3]\n"
     ]
    }
   ],
   "source": [
    "# print the whole list\n",
    "print('Print the whole array : ', a)\n"
   ]
  },
  {
   "cell_type": "code",
   "execution_count": 6,
   "metadata": {},
   "outputs": [
    {
     "name": "stdout",
     "output_type": "stream",
     "text": [
      "\n",
      "print rank 2 array\n"
     ]
    }
   ],
   "source": [
    "# Create a rank 2 array using nested Python list\n",
    "b = numpy.array([[10, 20, 30], [40, 50, 60]])\n",
    "print('\\nprint rank 2 array')"
   ]
  },
  {
   "cell_type": "code",
   "execution_count": 7,
   "metadata": {},
   "outputs": [
    {
     "name": "stdout",
     "output_type": "stream",
     "text": [
      "print using their index: b[0,0]=  10  b[0,1]=  20\n",
      "print using slicing  [[40 50]]\n"
     ]
    }
   ],
   "source": [
    "# access them using their index\n",
    "print('print using their index: b[0,0]= ', b[0, 0], ' b[0,1]= ',b[0, 1])\n",
    "print('print using slicing ', b[1:, :2]) # 1st slice for row, 2nd for column"
   ]
  },
  {
   "cell_type": "code",
   "execution_count": 8,
   "metadata": {},
   "outputs": [
    {
     "name": "stdout",
     "output_type": "stream",
     "text": [
      "\n",
      "print a 2-by-2 zero matrix:\n",
      " [[ 0.  0.]\n",
      " [ 0.  0.]]\n"
     ]
    }
   ],
   "source": [
    "# initialize a zero matrix\n",
    "a = numpy.zeros((2, 2))\n",
    "print('\\nprint a 2-by-2 zero matrix:\\n', a)"
   ]
  },
  {
   "cell_type": "code",
   "execution_count": 9,
   "metadata": {},
   "outputs": [
    {
     "name": "stdout",
     "output_type": "stream",
     "text": [
      "\n",
      "print a 2-by-2 all one matrix:\n",
      " [[ 1.  1.]\n",
      " [ 1.  1.]]\n"
     ]
    }
   ],
   "source": [
    "# Create an array of all ones\n",
    "b = numpy.ones((2, 2))\n",
    "print('\\nprint a 2-by-2 all one matrix:\\n', b)"
   ]
  },
  {
   "cell_type": "code",
   "execution_count": 10,
   "metadata": {},
   "outputs": [
    {
     "name": "stdout",
     "output_type": "stream",
     "text": [
      "\n",
      "print a 3-by-3 constant matrix for value = 6:\n",
      " [[6 6 6]\n",
      " [6 6 6]\n",
      " [6 6 6]]\n"
     ]
    }
   ],
   "source": [
    "# Create a constant array\n",
    "c = numpy.full((3, 3), 6)\n",
    "print('\\nprint a 3-by-3 constant matrix for value = 6:\\n', c)"
   ]
  },
  {
   "cell_type": "code",
   "execution_count": 11,
   "metadata": {},
   "outputs": [
    {
     "name": "stdout",
     "output_type": "stream",
     "text": [
      "\n",
      "print a 3-by-3 identity matrix:\n",
      " [[ 1.  0.  0.]\n",
      " [ 0.  1.  0.]\n",
      " [ 0.  0.  1.]]\n"
     ]
    }
   ],
   "source": [
    "# Create a 3x3 identity matrix\n",
    "d = numpy.eye(3)\n",
    "print('\\nprint a 3-by-3 identity matrix:\\n', d)"
   ]
  },
  {
   "cell_type": "markdown",
   "metadata": {},
   "source": [
    "#### PYTHON NUMPY TUTORIAL – ARITHMETIC OPERATION ON MATRIX\n"
   ]
  },
  {
   "cell_type": "code",
   "execution_count": 12,
   "metadata": {},
   "outputs": [],
   "source": [
    "import numpy"
   ]
  },
  {
   "cell_type": "code",
   "execution_count": 13,
   "metadata": {},
   "outputs": [],
   "source": [
    "# initialize two array\n",
    "x = numpy.array([[1, 2], [3, 4]], dtype=numpy.float64)\n",
    "y = numpy.array([[3, 4], [5, 6]], dtype=numpy.float64)\n"
   ]
  },
  {
   "cell_type": "code",
   "execution_count": 14,
   "metadata": {},
   "outputs": [
    {
     "name": "stdout",
     "output_type": "stream",
     "text": [
      "Print the two matrices\n",
      "X = \n",
      " [[ 1.  2.]\n",
      " [ 3.  4.]]\n",
      "Y = \n",
      " [[ 3.  4.]\n",
      " [ 5.  6.]]\n"
     ]
    }
   ],
   "source": [
    "print('Print the two matrices')\n",
    "print('X = \\n', x)\n",
    "print('Y = \\n', y)\n"
   ]
  },
  {
   "cell_type": "code",
   "execution_count": 15,
   "metadata": {},
   "outputs": [
    {
     "name": "stdout",
     "output_type": "stream",
     "text": [
      "\n",
      "Elementwise addition of two matrices: ( X + Y of Matlab )\n",
      "Add using add operator: \n",
      " [[  4.   6.]\n",
      " [  8.  10.]]\n",
      "Add using add function: \n",
      " [[  4.   6.]\n",
      " [  8.  10.]]\n"
     ]
    }
   ],
   "source": [
    "# Elementwise sum; both produce the array\n",
    "print('\\nElementwise addition of two matrices: ( X + Y of Matlab )')\n",
    "print('Add using add operator: \\n', x + y)\n",
    "print('Add using add function: \\n', numpy.add(x, y))"
   ]
  },
  {
   "cell_type": "code",
   "execution_count": 16,
   "metadata": {},
   "outputs": [
    {
     "name": "stdout",
     "output_type": "stream",
     "text": [
      "\n",
      "Elementwise subtraction of two matrices: ( X - Y of Matlab )\n",
      "Subtract using operator: \n",
      " [[-2. -2.]\n",
      " [-2. -2.]]\n",
      "Subtract using function: \n",
      " [[-2. -2.]\n",
      " [-2. -2.]]\n"
     ]
    }
   ],
   "source": [
    "# Elementwise difference; both produce the array\n",
    "print('\\nElementwise subtraction of two matrices: ( X - Y of Matlab )')\n",
    "print('Subtract using operator: \\n', x - y)\n",
    "print('Subtract using function: \\n', numpy.subtract(x, y))"
   ]
  },
  {
   "cell_type": "code",
   "execution_count": 17,
   "metadata": {},
   "outputs": [
    {
     "name": "stdout",
     "output_type": "stream",
     "text": [
      "\n",
      "Elementwise Multiplication of two matrices: ( X .* Y of Matlab )\n",
      "Multiply using operator: \n",
      " [[  3.   8.]\n",
      " [ 15.  24.]]\n",
      "Multiply using function: \n",
      " [[  3.   8.]\n",
      " [ 15.  24.]]\n"
     ]
    }
   ],
   "source": [
    "# Elementwise product; both produce the array\n",
    "print('\\nElementwise Multiplication of two matrices: ( X .* Y of Matlab )')\n",
    "print('Multiply using operator: \\n', x * y)\n",
    "print('Multiply using function: \\n', numpy.multiply(x, y))"
   ]
  },
  {
   "cell_type": "code",
   "execution_count": 18,
   "metadata": {},
   "outputs": [
    {
     "name": "stdout",
     "output_type": "stream",
     "text": [
      "\n",
      "Elementwise division of two matrices: ( X ./ Y of Matlab )\n",
      "Division using operator: \n",
      " [[ 0.33333333  0.5       ]\n",
      " [ 0.6         0.66666667]]\n",
      "Division using function: \n",
      " [[ 0.33333333  0.5       ]\n",
      " [ 0.6         0.66666667]]\n"
     ]
    }
   ],
   "source": [
    "# Elementwise division; both produce the array\n",
    "print('\\nElementwise division of two matrices: ( X ./ Y of Matlab )')\n",
    "print('Division using operator: \\n', x / y)\n",
    "print('Division using function: \\n', numpy.divide(x, y))"
   ]
  },
  {
   "cell_type": "code",
   "execution_count": 19,
   "metadata": {},
   "outputs": [
    {
     "name": "stdout",
     "output_type": "stream",
     "text": [
      "\n",
      "Square root each element of X matrix\n",
      " [[ 1.          1.41421356]\n",
      " [ 1.73205081  2.        ]]\n",
      "\n",
      "Matrix Multiplication of two matrices: ( X * Y of Matlab )\n",
      "[[ 13.  16.]\n",
      " [ 29.  36.]]\n"
     ]
    }
   ],
   "source": [
    "# Elementwise square root; produces the array\n",
    "print('\\nSquare root each element of X matrix\\n', numpy.sqrt(x))\n",
    "# Matrix Multiplication\n",
    "print('\\nMatrix Multiplication of two matrices: ( X * Y of Matlab )')\n",
    "print(x.dot(y))"
   ]
  },
  {
   "cell_type": "code",
   "execution_count": null,
   "metadata": {},
   "outputs": [],
   "source": []
  }
 ],
 "metadata": {
  "kernelspec": {
   "display_name": "Python 3",
   "language": "python",
   "name": "python3"
  },
  "language_info": {
   "codemirror_mode": {
    "name": "ipython",
    "version": 3
   },
   "file_extension": ".py",
   "mimetype": "text/x-python",
   "name": "python",
   "nbconvert_exporter": "python",
   "pygments_lexer": "ipython3",
   "version": "3.5.2"
  }
 },
 "nbformat": 4,
 "nbformat_minor": 2
}
