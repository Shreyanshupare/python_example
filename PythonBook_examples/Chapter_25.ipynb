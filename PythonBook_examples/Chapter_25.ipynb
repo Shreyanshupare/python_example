{
 "cells": [
  {
   "cell_type": "markdown",
   "metadata": {},
   "source": [
    "# Threading Module\n",
    "Probably one of the largest drawbacks to the Python programming languages is that it is single-threaded.\n",
    "This means that Python will only run on a single thread naturally. If you have a large computational task, you\n",
    "might have already found that it takes Python a very long time to reach a solution, and yet, your processor\n",
    "might sit at 5% usage or even less."
   ]
  },
  {
   "cell_type": "code",
   "execution_count": 2,
   "metadata": {},
   "outputs": [],
   "source": [
    "import threading\n",
    "from queue import Queue\n",
    "import time"
   ]
  },
  {
   "cell_type": "code",
   "execution_count": 3,
   "metadata": {},
   "outputs": [],
   "source": [
    "print_lock = threading.Lock()\n",
    "# we're looking to use the lock to stop print functions from running over each other in their output"
   ]
  },
  {
   "cell_type": "code",
   "execution_count": 5,
   "metadata": {},
   "outputs": [],
   "source": [
    "def exampleJob(worker):\n",
    "    time.sleep(.5) # pretend to do some work.\n",
    "    with print_lock:\n",
    "        print(threading.current_thread().name,worker)\n",
    "def threader():\n",
    "    while True:\n",
    "        # gets an worker from the queue\n",
    "        worker = q.get()\n",
    "        # Run the example job with the avail worker in queue (thread)\n",
    "        exampleJob(worker)\n",
    "         # completed with the job\n",
    "        q.task_done()\n",
    "        \n",
    "q = Queue()        "
   ]
  },
  {
   "cell_type": "code",
   "execution_count": 6,
   "metadata": {},
   "outputs": [],
   "source": [
    "\n",
    "# Now let's create our threads, and put them to work"
   ]
  },
  {
   "cell_type": "code",
   "execution_count": null,
   "metadata": {},
   "outputs": [],
   "source": [
    "# how many threads are we going to allow for\n",
    "for x in range(10):\n",
    "    t = threading.Thread(target=threader)\n",
    "    # classifying as a daemon, so they will die when the main dies\n",
    "    t.daemon = True\n",
    "    # begins, must come after daemon definition\n",
    "    t.start()\n",
    "start = time.time()\n",
    "# 20 jobs assigned.\n",
    "for worker in range(20):\n",
    "    q.put(worker)\n",
    "# wait until the thread terminates.\n",
    "    q.join()\n",
    "# with 10 workers and 20 tasks, with each task being .5 seconds, then the\n",
    "completed job\n",
    "# is ~1 second using threading. Normally 20 tasks with .5 seconds each would\n",
    "take 10 seconds.\n",
    "print('Entire job took:',time.time() - start)"
   ]
  }
 ],
 "metadata": {
  "kernelspec": {
   "display_name": "Python 3",
   "language": "python",
   "name": "python3"
  },
  "language_info": {
   "codemirror_mode": {
    "name": "ipython",
    "version": 3
   },
   "file_extension": ".py",
   "mimetype": "text/x-python",
   "name": "python",
   "nbconvert_exporter": "python",
   "pygments_lexer": "ipython3",
   "version": "3.5.2"
  }
 },
 "nbformat": 4,
 "nbformat_minor": 2
}
