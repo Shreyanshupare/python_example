{
 "cells": [
  {
   "cell_type": "markdown",
   "metadata": {},
   "source": [
    "# Tkinter intro\n",
    "The tkinter module is a wrapper around tk, which is a wrapper around tcl, which is what is used to create\n",
    "windows and graphical user interfaces."
   ]
  },
  {
   "cell_type": "code",
   "execution_count": 1,
   "metadata": {},
   "outputs": [],
   "source": [
    "from tkinter import *"
   ]
  },
  {
   "cell_type": "code",
   "execution_count": 2,
   "metadata": {},
   "outputs": [],
   "source": [
    "class Window(Frame):\n",
    "    def __init__(self, master=None):\n",
    "        Frame.__init__(self, master)\n",
    "        self.master = master"
   ]
  },
  {
   "cell_type": "code",
   "execution_count": 3,
   "metadata": {},
   "outputs": [],
   "source": [
    "root = Tk()"
   ]
  },
  {
   "cell_type": "code",
   "execution_count": null,
   "metadata": {},
   "outputs": [],
   "source": [
    "# Then we actually create the instance.\n",
    "app = Window(root)"
   ]
  },
  {
   "cell_type": "code",
   "execution_count": null,
   "metadata": {},
   "outputs": [],
   "source": [
    "# Finally, show it and begin the mainloop.\n",
    "root.mainloop()"
   ]
  },
  {
   "cell_type": "markdown",
   "metadata": {},
   "source": [
    "# Tkinter button , menu bar, buttons and event handling"
   ]
  },
  {
   "cell_type": "markdown",
   "metadata": {},
   "source": [
    "#### Tkinter buttons"
   ]
  },
  {
   "cell_type": "code",
   "execution_count": 5,
   "metadata": {},
   "outputs": [],
   "source": [
    "from tkinter import *\n",
    "\n",
    "class Window(Frame):\n",
    "    def __init__(self, master=None):\n",
    "        Frame.__init__(self, master)\n",
    "        self.master = master\n",
    "        self.init_window()\n",
    "        \n",
    " #Creation of init_window\n",
    "    def init_window(self):\n",
    "        # changing the title of our master widget\n",
    "        self.master.title(\"GUI\")\n",
    "        # allowing the widget to take the full space of the root window\n",
    "        self.pack(fill=BOTH, expand=1)\n",
    "        # creating a button instance\n",
    "        quitButton = Button(self, text=\"Quit\")\n",
    "        # placing the button on my window\n",
    "        quitButton.place(x=0, y=0)\n",
    "        \n",
    "root = Tk()\n",
    "#size of the window\n",
    "\n",
    "root.geometry(\"400x300\")\n",
    "\n",
    "app = Window(root)\n",
    "root.mainloop() "
   ]
  },
  {
   "cell_type": "markdown",
   "metadata": {},
   "source": [
    "#### Tkinter event handling"
   ]
  },
  {
   "cell_type": "code",
   "execution_count": 7,
   "metadata": {},
   "outputs": [],
   "source": [
    "#  Even though\n",
    "#this function we create is a basic 1-line function that simply calls another function, we can see how we can\n",
    "#later create more complex functions for our events."
   ]
  },
  {
   "cell_type": "code",
   "execution_count": 8,
   "metadata": {},
   "outputs": [],
   "source": [
    "from tkinter import *\n",
    "\n",
    "class Window(Frame):\n",
    "    \n",
    "    def __init__(self, master=None):\n",
    "        # parameters that you want to send through the Frame class.\n",
    "        Frame.__init__(self, master)\n",
    "        #reference to the master widget, which is the tk window\n",
    "        self.master = master\n",
    "        #with that, we want to then run init_window, which doesn't yet exist\n",
    "        self.init_window()\n",
    "        \n",
    "    #Creation of init_window\n",
    "    def init_window(self):\n",
    "        # changing the title of our master widget\n",
    "        self.master.title(\"GUI\")\n",
    "        # allowing the widget to take the full space of the root window\n",
    "        self.pack(fill=BOTH, expand=1)\n",
    "        # creating a button instance\n",
    "        quitButton = Button(self, text=\"Exit\",command=self.client_exit)\n",
    "        # placing the button on my window\n",
    "        quitButton.place(x=0, y=0)\n",
    "        \n",
    "    def client_exit(self):\n",
    "        exit()\n",
    "        # root window created. Here, that would be the only window, but\n",
    "        # you can later have windows within windows.\n",
    "root = Tk()\n",
    "root.geometry(\"400x300\")\n",
    "\n",
    "#creation of an instance\n",
    "app = Window(root)\n",
    "\n",
    "#mainloop\n",
    "root.mainloop()         "
   ]
  },
  {
   "cell_type": "markdown",
   "metadata": {},
   "source": [
    "#### Tkinter menu bar"
   ]
  },
  {
   "cell_type": "code",
   "execution_count": 11,
   "metadata": {},
   "outputs": [],
   "source": [
    "# Simple enough, just import everything from tkinter.\n",
    "from tkinter import *\n",
    "\n",
    "# Here, we are creating our class, Window, and inheriting from the Frame\n",
    "# class. Frame is a class from the tkinter module. (see Lib/tkinter/__init__)\n",
    "\n",
    "class Window(Frame):\n",
    "    # Define settings upon initialization. Here you can specify\n",
    "    def __init__(self, master=None):\n",
    "        # parameters that you want to send through the Frame class.\n",
    "        Frame.__init__(self, master)\n",
    "        #reference to the master widget, which is the tk window\n",
    "        self.master = master\n",
    "        #with that, we want to then run init_window, which doesn't yet exist\n",
    "        self.init_window()\n",
    "        \n",
    "    #Creation of init_window\n",
    "    def init_window(self):\n",
    "        # changing the title of our master widget\n",
    "        self.master.title(\"GUI\")\n",
    "         # allowing the widget to take the full space of the root window\n",
    "        self.pack(fill=BOTH, expand=1)\n",
    "         # creating a menu instance\n",
    "        menu = Menu(self.master)\n",
    "        self.master.config(menu=menu)\n",
    "         # create the file object)\n",
    "        file = Menu(menu)\n",
    " # adds a command to the menu option, calling it exit, and the\n",
    " # command it runs on event is client_exit\n",
    "        file.add_command(label=\"Exit\", command=self.client_exit)\n",
    " #added \"file\" to our menu\n",
    "        menu.add_cascade(label=\"File\", menu=file)\n",
    " # create the file object)\n",
    "        edit = Menu(menu)\n",
    " # adds a command to the menu option, calling it exit, and the\n",
    " # command it runs on event is client_exit\n",
    "        edit.add_command(label=\"Undo\")\n",
    " #added \"file\" to our menu\n",
    "        menu.add_cascade(label=\"Edit\", menu=edit)\n",
    "\n",
    "    def client_exit(self):\n",
    "        exit()\n",
    "\n",
    "# root window created. Here, that would be the only window, but\n",
    "# you can later have windows within windows.\n",
    "root = Tk()\n",
    "root.geometry(\"400x300\")\n",
    "#creation of an instance\n",
    "app = Window(root)\n",
    "#mainloop\n",
    "root.mainloop() "
   ]
  },
  {
   "cell_type": "markdown",
   "metadata": {},
   "source": [
    "# Tkinter images, text, and conclusion"
   ]
  },
  {
   "cell_type": "code",
   "execution_count": 12,
   "metadata": {},
   "outputs": [],
   "source": [
    "# Simple enough, just import everything from tkinter.\n",
    "from tkinter import *\n",
    "#download and install pillow:\n",
    "# http://www.lfd.uci.edu/~gohlke/pythonlibs/#pillow\n",
    "from PIL import Image, ImageTk\n",
    "\n",
    "# class. Frame is a class from the tkinter module. (see Lib/tkinter/__init__)\n",
    "\n",
    "class Window(Frame):\n",
    "    # Define settings upon initialization. Here you can specify\n",
    "    def __init__(self, master=None):\n",
    "        # parameters that you want to send through the Frame class.\n",
    "        Frame.__init__(self, master)\n",
    "         #reference to the master widget, which is the tk window\n",
    "        self.master = master\n",
    "         #with that, we want to then run init_window, which doesn't yet exist\n",
    "        self.init_window()\n",
    "    \n",
    "    def init_window(self):\n",
    "        # changing the title of our master widget\n",
    "        self.master.title(\"GUI\")\n",
    "        # allowing the widget to take the full space of the root window\n",
    "        self.pack(fill=BOTH, expand=1)\n",
    "        # creating a menu instance\n",
    "        menu = Menu(self.master)\n",
    "        self.master.config(menu=menu)\n",
    "        # create the file object)\n",
    "        file = Menu(menu)\n",
    "        # adds a command to the menu option, calling it exit, and the\n",
    "        # command it runs on event is client_exit\n",
    "        file.add_command(label=\"Exit\", command=self.client_exit)\n",
    "        #added \"file\" to our menu\n",
    "        menu.add_cascade(label=\"File\", menu=file)\n",
    "        # create the file object)\n",
    "        edit = Menu(menu)\n",
    "         # adds a command to the menu option, calling it exit, and the\n",
    "         # command it runs on event is client_exit\n",
    "        edit.add_command(label=\"Show Img\", command=self.showImg)\n",
    "        edit.add_command(label=\"Show Text\", command=self.showText)\n",
    "        #added \"file\" to our menu\n",
    "        menu.add_cascade(label=\"Edit\", menu=edit)\n",
    "        \n",
    "        \n",
    "    def showImg(self):\n",
    "        load = Image.open(\"chat.png\")\n",
    "        render = ImageTk.PhotoImage(load)\n",
    " # labels can be text or images\n",
    "        img = Label(self, image=render)\n",
    "        img.image = render\n",
    "        img.place(x=0, y=0)\n",
    "    def showText(self):\n",
    "        text = Label(self, text=\"Hey there good lookin!\")\n",
    "        text.pack()\n",
    "\n",
    "    def client_exit(self):\n",
    "        exit()\n",
    "        \n",
    "# root window created. Here, that would be the only window, but\n",
    "# you can later have windows within windows.\n",
    "root = Tk()\n",
    "root.geometry(\"400x300\")\n",
    "#creation of an instance\n",
    "app = Window(root)\n",
    "#mainloop\n",
    "root.mainloop()         "
   ]
  }
 ],
 "metadata": {
  "kernelspec": {
   "display_name": "Python 3",
   "language": "python",
   "name": "python3"
  },
  "language_info": {
   "codemirror_mode": {
    "name": "ipython",
    "version": 3
   },
   "file_extension": ".py",
   "mimetype": "text/x-python",
   "name": "python",
   "nbconvert_exporter": "python",
   "pygments_lexer": "ipython3",
   "version": "3.5.2"
  }
 },
 "nbformat": 4,
 "nbformat_minor": 2
}
