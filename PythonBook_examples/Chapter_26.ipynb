{
 "cells": [
  {
   "cell_type": "markdown",
   "metadata": {},
   "source": [
    "# Python Sockets\n",
    "Sockets are used in networking. The idea of a socket is to aid in the communication between two entities.\n",
    "When you view a website, you are opening a port and connecting to that website via sockets. "
   ]
  },
  {
   "cell_type": "code",
   "execution_count": 1,
   "metadata": {},
   "outputs": [],
   "source": [
    "import socket"
   ]
  },
  {
   "cell_type": "code",
   "execution_count": 2,
   "metadata": {},
   "outputs": [
    {
     "name": "stdout",
     "output_type": "stream",
     "text": [
      "<socket.socket fd=428, family=AddressFamily.AF_INET, type=SocketKind.SOCK_STREAM, proto=0>\n"
     ]
    }
   ],
   "source": [
    "s = socket.socket(socket.AF_INET, socket.SOCK_STREAM)\n",
    "print(s)"
   ]
  },
  {
   "cell_type": "code",
   "execution_count": 3,
   "metadata": {},
   "outputs": [
    {
     "name": "stdout",
     "output_type": "stream",
     "text": [
      "104.237.143.20\n"
     ]
    }
   ],
   "source": [
    "server = 'pythonprogramming.net'\n",
    "port = 80\n",
    "server_ip = socket.gethostbyname(server)\n",
    "print(server_ip)"
   ]
  },
  {
   "cell_type": "code",
   "execution_count": 4,
   "metadata": {},
   "outputs": [],
   "source": [
    "# Now, let's make a request, making sure it is in-line with what the port will find acceptable from our socket:\n",
    "request = \"GET / HTTP/1.1\\nHost: \"+server+\"\\n\\n\"\n",
    "s = socket.socket(socket.AF_INET, socket.SOCK_STREAM)\n",
    "s.connect((\"pythonprogramming.net\", 80))"
   ]
  },
  {
   "cell_type": "code",
   "execution_count": 5,
   "metadata": {},
   "outputs": [
    {
     "name": "stdout",
     "output_type": "stream",
     "text": [
      "b'HTTP/1.1 301 Moved Permanently\\r\\nDate: Mon, 11 Dec 2017 14:51:42 GMT\\r\\nServer: Apache/2.4.10 (Ubuntu)\\r\\nLocation: https://pythonprogramming.net/\\r\\nContent-Length: 325\\r\\nContent-Type: text/html; charset=iso-8859-1\\r\\n\\r\\n<!DOCTYPE HTML PUBLIC \"-//IETF//DTD HTML 2.0//EN\">\\n<html><head>\\n<title>301 Moved Permanently</title>\\n</head><body>\\n<h1>Moved Permanently</h1>\\n<p>The document has moved <a href=\"https://pythonprogramming.net/\">here</a>.</p>\\n<hr>\\n<address>Apache/2.4.10 (Ubuntu) Server at pythonprogramming.net Port 80</address>\\n</body></html>\\n'\n"
     ]
    }
   ],
   "source": [
    "s.send(request.encode())\n",
    "result = s.recv(4096)\n",
    "print(result)"
   ]
  },
  {
   "cell_type": "code",
   "execution_count": 6,
   "metadata": {},
   "outputs": [
    {
     "name": "stdout",
     "output_type": "stream",
     "text": [
      "The Zen of Python, by Tim Peters\n",
      "\n",
      "Beautiful is better than ugly.\n",
      "Explicit is better than implicit.\n",
      "Simple is better than complex.\n",
      "Complex is better than complicated.\n",
      "Flat is better than nested.\n",
      "Sparse is better than dense.\n",
      "Readability counts.\n",
      "Special cases aren't special enough to break the rules.\n",
      "Although practicality beats purity.\n",
      "Errors should never pass silently.\n",
      "Unless explicitly silenced.\n",
      "In the face of ambiguity, refuse the temptation to guess.\n",
      "There should be one-- and preferably only one --obvious way to do it.\n",
      "Although that way may not be obvious at first unless you're Dutch.\n",
      "Now is better than never.\n",
      "Although never is often better than *right* now.\n",
      "If the implementation is hard to explain, it's a bad idea.\n",
      "If the implementation is easy to explain, it may be a good idea.\n",
      "Namespaces are one honking great idea -- let's do more of those!\n",
      "b'HTTP/1.1 301 Moved Permanently\\r\\nDate: Mon, 11 Dec 2017 14:51:42 GMT\\r\\nServer: Apache/2.4.10 (Ubuntu)\\r\\nLocation: https://pythonprogramming.net/\\r\\nContent-Length: 325\\r\\nContent-Type: text/html; charset=iso-8859-1\\r\\n\\r\\n<!DOCTYPE HTML PUBLIC \"-//IETF//DTD HTML 2.0//EN\">\\n<html><head>\\n<title>301 Moved Permanently</title>\\n</head><body>\\n<h1>Moved Permanently</h1>\\n<p>The document has moved <a href=\"https://pythonprogramming.net/\">here</a>.</p>\\n<hr>\\n<address>Apache/2.4.10 (Ubuntu) Server at pythonprogramming.net Port 80</address>\\n</body></html>\\n'\n"
     ]
    }
   ],
   "source": [
    "import this\n",
    "while (len(result) > 0):\n",
    "    print(result)\n",
    "    result = s.recv(4096)\n"
   ]
  },
  {
   "cell_type": "markdown",
   "metadata": {},
   "source": [
    "#### Simple Port Scanner with Sockets"
   ]
  },
  {
   "cell_type": "code",
   "execution_count": 7,
   "metadata": {},
   "outputs": [
    {
     "name": "stdout",
     "output_type": "stream",
     "text": [
      "What website to scan?: 22\n"
     ]
    }
   ],
   "source": [
    "import socket\n",
    "s = socket.socket(socket.AF_INET, socket.SOCK_STREAM)\n",
    "target = input('What website to scan?: ')"
   ]
  },
  {
   "cell_type": "code",
   "execution_count": 9,
   "metadata": {},
   "outputs": [],
   "source": [
    "def pscan(port):\n",
    "    try:\n",
    "        con = s.connect((target,port))\n",
    "        return True\n",
    "    except:\n",
    "        return False\n",
    "for x in range(25):\n",
    "    if pscan(x):\n",
    "        print('Port',x,'is open')"
   ]
  },
  {
   "cell_type": "markdown",
   "metadata": {},
   "source": [
    "#### Threaded Port Scanner\n",
    "we can use threading to drastically improve our speed. There are thousands of possible\n",
    "ports. If it is taking 5-15 seconds per port to scan, then you might have a long wait ahead of you without the\n",
    "use of threading."
   ]
  },
  {
   "cell_type": "code",
   "execution_count": null,
   "metadata": {},
   "outputs": [
    {
     "name": "stdout",
     "output_type": "stream",
     "text": [
      "port 25\n",
      "port 22\n"
     ]
    }
   ],
   "source": [
    "import threading\n",
    "from queue import Queue\n",
    "import time\n",
    "import socket\n",
    "\n",
    "print_lock = threading.Lock()\n",
    "target = 'hackthissite.org'\n",
    "\n",
    "#ip = socket.gethostbyname(target)\n",
    "def portscan(port):\n",
    "    s = socket.socket(socket.AF_INET, socket.SOCK_STREAM)\n",
    "    try:\n",
    "        con = s.connect((target,port))\n",
    "        with print_lock:\n",
    "            print('port',port)\n",
    "        con.close()\n",
    "    except:\n",
    "        pass\n",
    "    \n",
    "def threader():\n",
    "    while True:\n",
    "        # gets an worker from the queue\n",
    "        worker = q.get()\n",
    "        # Run the example job with the avail worker in queue (thread)\n",
    "        portscan(worker)\n",
    "        # completed with the job\n",
    "        q.task_done()\n",
    "        \n",
    "# Create the queue and threader\n",
    "q = Queue()\n",
    "# how many threads are we going to allow for\n",
    "for x in range(30):\n",
    "    t = threading.Thread(target=threader)\n",
    "     # classifying as a daemon, so they will die when the main dies\n",
    "    t.daemon = True\n",
    " # begins, must come after daemon definition\n",
    "    t.start()\n",
    "start = time.time()\n",
    "# 100 jobs assigned.\n",
    "for worker in range(1,100):\n",
    "    q.put(worker)\n",
    "# wait until the thread terminates.\n",
    "q.join()    "
   ]
  },
  {
   "cell_type": "markdown",
   "metadata": {},
   "source": [
    "#### Binding and Listening with Sockets"
   ]
  },
  {
   "cell_type": "code",
   "execution_count": null,
   "metadata": {},
   "outputs": [
    {
     "name": "stdout",
     "output_type": "stream",
     "text": [
      "Socket bind complete\n"
     ]
    }
   ],
   "source": [
    "import socket\n",
    "import sys\n",
    "\n",
    "HOST = ''\n",
    "PORT = 5555\n",
    "\n",
    "s = socket.socket(socket.AF_INET, socket.SOCK_STREAM)\n",
    "\n",
    "try:\n",
    "    s.bind((HOST, PORT))\n",
    "\n",
    "except socket.error as msg:\n",
    "    print('Bind failed. Error Code : ' + str(msg[0]) + ' Message ' + msg[1])\n",
    "    sys.exit()\n",
    "print('Socket bind complete')\n",
    "s.listen(10)\n",
    "conn, addr = s.accept()\n",
    "print('Connected with ' + addr[0] + ':' + str(addr[1]))"
   ]
  },
  {
   "cell_type": "markdown",
   "metadata": {},
   "source": [
    "#### Client Server System with Sockets"
   ]
  },
  {
   "cell_type": "code",
   "execution_count": null,
   "metadata": {},
   "outputs": [],
   "source": [
    "import socket\n",
    "import sys\n",
    "from _thread import *\n",
    "host = ''#write your host\n",
    "port = 5555\n",
    "s = socket.socket(socket.AF_INET, socket.SOCK_STREAM)\n",
    "try:\n",
    "    s.bind((host, port))\n",
    "except socket.error as e:\n",
    "    print(str(e))\n",
    "    s.listen(5)\n",
    "    print('Waiting for a connection.')\n",
    "def threaded_client(conn):\n",
    "    conn.send(str.encode('Welcome, type your info\\n'))\n",
    "    while True:\n",
    "        data = conn.recv(2048)\n",
    "        reply = 'Server output: '+ data.decode('utf-8')\n",
    "        if not data:\n",
    "            break\n",
    "        conn.sendall(str.encode(reply))\n",
    "    conn.close()\n",
    "while True:\n",
    "    conn, addr = s.accept()\n",
    "    print('connected to: '+addr[0]+':'+str(addr[1]))\n",
    "    start_new_thread(threaded_client,(conn,))"
   ]
  }
 ],
 "metadata": {
  "kernelspec": {
   "display_name": "Python 3",
   "language": "python",
   "name": "python3"
  },
  "language_info": {
   "codemirror_mode": {
    "name": "ipython",
    "version": 3
   },
   "file_extension": ".py",
   "mimetype": "text/x-python",
   "name": "python",
   "nbconvert_exporter": "python",
   "pygments_lexer": "ipython3",
   "version": "3.5.2"
  }
 },
 "nbformat": 4,
 "nbformat_minor": 2
}
