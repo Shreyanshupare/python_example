{
 "cells": [
  {
   "cell_type": "markdown",
   "metadata": {},
   "source": [
    "# Appending files\n",
    " we get to appending a file in python. I will just state again that writing will clear the file and write to it\n",
    "just the data you specify in the write operation. Appending will simply take what was already there, and add\n",
    "the new data to it."
   ]
  },
  {
   "cell_type": "markdown",
   "metadata": {},
   "source": [
    "##### Let's look at an example:"
   ]
  },
  {
   "cell_type": "code",
   "execution_count": 1,
   "metadata": {},
   "outputs": [],
   "source": [
    "appendMe = '\\nNew bit of information'\n",
    "\n",
    "# here open the file. 'a' is for appending\n",
    "appendFile = open('exampleFile.txt','a') #your file path\n",
    "\n",
    "appendFile.write(appendMe)\n",
    "appendFile.close()"
   ]
  },
  {
   "cell_type": "markdown",
   "metadata": {},
   "source": [
    "#### What will happen here is, if exampleFile.txt already exists, the appendMe line will be added to it. If that file does not already exist, then it will be created."
   ]
  }
 ],
 "metadata": {
  "kernelspec": {
   "display_name": "Python 3",
   "language": "python",
   "name": "python3"
  },
  "language_info": {
   "codemirror_mode": {
    "name": "ipython",
    "version": 3
   },
   "file_extension": ".py",
   "mimetype": "text/x-python",
   "name": "python",
   "nbconvert_exporter": "python",
   "pygments_lexer": "ipython3",
   "version": "3.5.2"
  }
 },
 "nbformat": 4,
 "nbformat_minor": 2
}
