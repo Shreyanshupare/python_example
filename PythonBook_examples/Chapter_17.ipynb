{
 "cells": [
  {
   "cell_type": "markdown",
   "metadata": {},
   "source": [
    "# Error handling"
   ]
  },
  {
   "cell_type": "code",
   "execution_count": 1,
   "metadata": {},
   "outputs": [
    {
     "name": "stdout",
     "output_type": "stream",
     "text": [
      "['1/2/2014', '1/3/2014', '1/4/2014']\n",
      "['red', 'green', 'blue']\n"
     ]
    }
   ],
   "source": [
    "import csv\n",
    "with open('example.csv') as csvfile:\n",
    "    readCSV = csv.reader(csvfile, delimiter=',')\n",
    "    dates = []\n",
    "    colors = []\n",
    "    for row in readCSV:\n",
    "        color = row[3]\n",
    "        date = row[0]\n",
    "        dates.append(date)\n",
    "        colors.append(color)\n",
    "    print(dates)\n",
    "    print(colors)"
   ]
  },
  {
   "cell_type": "code",
   "execution_count": null,
   "metadata": {},
   "outputs": [],
   "source": [
    "try:\n",
    "    whatColor = input('What color do you wish to know the date of?:')\n",
    "    coldex = colors.index(whatColor)\n",
    "    theDate = dates[coldex]\n",
    "    print('The date of',whatColor,'is:',theDate)\n",
    "\n",
    "except Exception as e:\n",
    "    print(e)\n",
    "\n",
    "print('Stillllllll running though!')"
   ]
  },
  {
   "cell_type": "markdown",
   "metadata": {},
   "source": [
    "#### This shown, we should always treat try and exception handling as a last resort, or a final point of failure. We should really instead code in a conditional before the exception is thrown, something like:"
   ]
  },
  {
   "cell_type": "code",
   "execution_count": 1,
   "metadata": {},
   "outputs": [
    {
     "name": "stdout",
     "output_type": "stream",
     "text": [
      "['1/2/2014', '1/3/2014', '1/4/2014']\n",
      "['red', 'green', 'blue']\n",
      "What color do you wish to know the date of?:red\n",
      "The date of red is: 1/2/2014\n"
     ]
    }
   ],
   "source": [
    "import csv\n",
    "with open('example.csv') as csvfile:\n",
    "    readCSV = csv.reader(csvfile, delimiter=',')\n",
    "    dates = []\n",
    "    colors = []\n",
    "    for row in readCSV:\n",
    "        color = row[3]\n",
    "        date = row[0]\n",
    "        dates.append(date)\n",
    "        colors.append(color)\n",
    "    print(dates)\n",
    "    print(colors)\n",
    "    try:\n",
    "        whatColor = input('What color do you wish to know the date of?:')\n",
    "        if whatColor in colors:\n",
    "            coldex = colors.index(whatColor)\n",
    "            theDate = dates[coldex]\n",
    "            print('The date of',whatColor,'is:',theDate)\n",
    "        else:\n",
    "            print('This color was not found.')\n",
    "\n",
    "    except Exception as e:\n",
    "        print(e)"
   ]
  }
 ],
 "metadata": {
  "kernelspec": {
   "display_name": "Python 3",
   "language": "python",
   "name": "python3"
  },
  "language_info": {
   "codemirror_mode": {
    "name": "ipython",
    "version": 3
   },
   "file_extension": ".py",
   "mimetype": "text/x-python",
   "name": "python",
   "nbconvert_exporter": "python",
   "pygments_lexer": "ipython3",
   "version": "3.5.2"
  }
 },
 "nbformat": 4,
 "nbformat_minor": 2
}
